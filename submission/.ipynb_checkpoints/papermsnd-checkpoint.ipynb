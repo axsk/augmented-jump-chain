{
 "cells": [
  {
   "cell_type": "code",
   "execution_count": 1,
   "metadata": {},
   "outputs": [],
   "source": [
    "%autoreload 2\n",
    "import sys\n",
    "sys.path.append('src')\n",
    "import sqra\n",
    "import numpy as np\n",
    "import ajc\n",
    "import ajcs\n",
    "from scipy.linalg import expm\n",
    "import scipy.sparse.linalg as spl\n",
    "import matplotlib.pyplot as plt"
   ]
  },
  {
   "cell_type": "code",
   "execution_count": 2,
   "metadata": {},
   "outputs": [
    {
     "data": {
      "text/plain": [
       "<Figure size 432x288 with 0 Axes>"
      ]
     },
     "metadata": {},
     "output_type": "display_data"
    }
   ],
   "source": [
    "plt.set_cmap(\"bone_r\")\n",
    "#plt.set_cmap(\"afmhot_r\")"
   ]
  },
  {
   "cell_type": "code",
   "execution_count": 3,
   "metadata": {},
   "outputs": [],
   "source": [
    "class PaperPlots:\n",
    "    def __init__(self, model):\n",
    "        self.model = model\n",
    "        self.Qs = model.Qs\n",
    "        self.dt = np.array(model.dts)\n",
    "\n",
    "        self.ajc = ajc.AJCGalerkin(np.dstack(self.Qs), self.dt)\n",
    "        self.nt = np.size(self.Qs, 0)\n",
    "        self.nx = np.size(self.Qs[0], 0)\n",
    "    \n",
    "    ######\n",
    "\n",
    "    def jumpactivity(self, p0):\n",
    "        return self.ajc.geiger(p0)\n",
    "\n",
    "    def sync(self, p0):\n",
    "        pp = self.jumpactivity(p0)\n",
    "        return self.ajc.synchronize(pp)\n",
    "\n",
    "    def kernelmatrix(self):\n",
    "        return self.ajc.km\n",
    "\n",
    "    def koopman_sync(self):\n",
    "            k = np.zeros((self.nx, self.nx))\n",
    "            for i in range(self.nx):\n",
    "                x0 = np.zeros((self.nx, self.nt))\n",
    "                x0[i,0] = 1\n",
    "                k[i, :] = self.sync(x0)[:,-1]\n",
    "            return k\n",
    "\n",
    "    def koopman_q(self):\n",
    "        k = np.identity(self.nx)\n",
    "        for (i,t) in enumerate(self.dt):\n",
    "            k = k @ expm(t * self.Qs[i])\n",
    "        return k\n",
    "\n",
    "    def koopman_error(self):\n",
    "        ks = self.koopman_sync()\n",
    "        kq = self.koopman_q()\n",
    "        return np.linalg.norm(ks-kq, 2)\n",
    "\n",
    "    #######\n",
    "\n",
    "    def plot_transkernel(self):\n",
    "        p = plt.imshow(self.kernelmatrix())\n",
    "\n",
    "        cb = plt.colorbar()\n",
    "        #cb.set_label(\"transition probability\")\n",
    "        plt.xticks()\n",
    "        plt.yticks()\n",
    "        plt.xlabel(\"X x T\")\n",
    "        plt.ylabel(\"X x T\")\n",
    "        return p\n",
    "\n",
    "    def plot_jumpactivity(self, x0=0):\n",
    "        p0 = np.zeros((self.nx,self.nt))\n",
    "        p0[x0,0] = 1\n",
    "\n",
    "        p = plt.imshow(self.jumpactivity(p0))\n",
    "\n",
    "        #cb = plt.colorbar()\n",
    "        #cb.set_label(\"jump activity\")\n",
    "\n",
    "        plt.ylabel(\"X\")\n",
    "        plt.xlabel(\"t\")\n",
    "        plt.yticks(np.arange(self.nx), np.arange(1,self.nx+1))\n",
    "        plt.xticks(np.arange(self.nt+1) -.5, np.hstack([0,np.cumsum(self.dt)]));\n",
    "        return p\n",
    "\n",
    "    def plot_sync(self, x0=0, p0=None):\n",
    "        if p0 is None:\n",
    "            p0 = np.zeros((self.nx,self.nt))\n",
    "            p0[x0,0] = 1\n",
    "        ps = self.sync(p0)\n",
    "\n",
    "        p = plt.imshow(ps)\n",
    "\n",
    "        #cb = plt.colorbar()\n",
    "        #cb.set_label(\"probability (synchronized, one state)\")\n",
    "\n",
    "        plt.ylabel(\"X\")\n",
    "        plt.xlabel(\"t\")\n",
    "        plt.yticks(np.arange(self.nx), np.arange(1,self.nx+1))\n",
    "        plt.xticks(np.arange(self.nt+1) -.5, np.hstack([0,np.cumsum(self.dt)]));\n",
    "        #plt.clim((0,1))\n",
    "        return p\n",
    "\n",
    "    def plot_koopman_sync(self):\n",
    "        plt.imshow(self.koopman_sync())\n",
    "\n",
    "        plt.xlabel(\"X\")\n",
    "        plt.ylabel(\"X\")\n",
    "        plt.xticks(np.arange(self.nx), np.arange(1,self.nx+1))\n",
    "        plt.yticks(np.arange(self.nx), np.arange(1,self.nx+1))\n",
    "\n",
    "        cb = plt.colorbar()\n",
    "        t2 = sum(self.dt)\n",
    "        t1 = t2 - self.dt[-1]\n",
    "        cb.set_label(f\"probability (synchronized, t $\\in  [{t1},{t2}]  $)\")\n",
    "        plt.clim((0,1))\n",
    "\n",
    "    def plot_koopman_q(self):\n",
    "        plt.imshow(self.koopman_q())\n",
    "        plt.xlabel(\"X\")\n",
    "        plt.ylabel(\"X\")\n",
    "\n",
    "        plt.xticks(np.arange(self.nx), np.arange(1,self.nx+1))\n",
    "        plt.yticks(np.arange(self.nx), np.arange(1,self.nx+1))\n",
    "\n",
    "        cb = plt.colorbar()\n",
    "        t2 = sum(self.dt)\n",
    "        cb.set_label(f\"probability (exact, t={t2})\")\n",
    "        plt.clim((0,1))\n",
    "\n",
    "    def plot_all(self, save=False):\n",
    "        self.plot_transkernel()\n",
    "        if save:\n",
    "            plt.savefig(self.model.name() + \"_transkernel.pdf\")\n",
    "        plt.show()\n",
    "\n",
    "        self.plot_jumpactivity(0)\n",
    "        if save:\n",
    "            plt.savefig(self.model.name() + \"_jumpactivity.pdf\")\n",
    "        plt.show()\n",
    "\n",
    "        self.plot_sync(0)\n",
    "        if save:\n",
    "            plt.savefig(self.model.name() + \"_sync.pdf\")\n",
    "        plt.show()\n",
    "\n",
    "        self.plot_koopman_sync()\n",
    "        if save:\n",
    "            plt.savefig(self.model.name() + \"_koopman_sync.pdf\")\n",
    "        plt.show()\n",
    "\n",
    "        self.plot_koopman_q()\n",
    "        if save:\n",
    "            plt.savefig(self.model.name() + \"_koopman_q.pdf\")\n",
    "        plt.show()\n"
   ]
  },
  {
   "cell_type": "code",
   "execution_count": 4,
   "metadata": {},
   "outputs": [],
   "source": [
    "import scipy.sparse as sps\n",
    "\n",
    "class PaperPlotsSparse(PaperPlots):\n",
    "    def __init__(self, model):\n",
    "        self.model = model\n",
    "        self.Qs = model.Qs\n",
    "        self.dt = np.array(model.dts)\n",
    "\n",
    "        self.ajcs = ajcs.AJCS(self.Qs, self.dt)\n",
    "        self.nt = np.size(self.Qs, 0)\n",
    "        self.nx = np.size(self.Qs[0], 0)\n",
    "\n",
    "    def jumpactivity(self, p0):\n",
    "        return self.ajcs.geiger(p0.T).T\n",
    "\n",
    "    def sync(self, p0):\n",
    "        pp = self.jumpactivity(p0)\n",
    "        return self.ajcs.synchronize(pp)\n",
    "\n",
    "    def kernelmatrix(self):\n",
    "        return  self.ajcs.km.toarray()\n",
    "\n",
    "    def koopman_q(self):\n",
    "        k = sps.identity(self.nx)\n",
    "        for (i,t) in enumerate(self.dt):\n",
    "            k = k @ spl.expm(t * self.Qs[i])\n",
    "        return k\n",
    "\n",
    "    def koopman_error(self):\n",
    "        #ks = self.ajcs.koopman_system()\n",
    "        ks = self.koopman_sync()\n",
    "        kq = self.koopman_q()\n",
    "        return np.linalg.norm(ks-kq, 2)"
   ]
  },
  {
   "cell_type": "code",
   "execution_count": 5,
   "metadata": {},
   "outputs": [],
   "source": [
    "from copy import deepcopy\n",
    "\n",
    "class ApproximationError:\n",
    "    def __init__(self, model, nt = 10, tmax = 50):\n",
    "        self.nts = np.ceil(np.logspace(0, np.log10(tmax), nt, base=10))\n",
    "        self.nts = self.nts * 2\n",
    "        self.models = []\n",
    "        self.tmax = np.sum(model.dts)\n",
    "\n",
    "        for nt in self.nts:\n",
    "            m = deepcopy(model)\n",
    "            m.nt = nt\n",
    "            m.dt = self.tmax/nt\n",
    "            print(m.dt)\n",
    "            m._compute()\n",
    "            self.models.append(m)\n",
    "        \n",
    "        self.errors = [PaperPlotsSparse(m).koopman_error() for m in self.models]\n",
    "    \n",
    "    def plot(self):\n",
    "        nts = self.nts\n",
    "        errors = self.errors\n",
    "        plt.yscale(\"log\")\n",
    "        plt.xscale(\"log\")\n",
    "        p = plt.plot(self.tmax/nts, errors)\n",
    "        plt.scatter(self.tmax/nts, errors)\n",
    "\n",
    "        plt.xlabel(r'''step-size $\\Delta T$''')        \n",
    "        plt.ylabel(r'''error $\\epsilon$''')\n",
    "        plt.savefig(\"dwerror.png\")\n",
    "        return p"
   ]
  },
  {
   "cell_type": "code",
   "execution_count": 6,
   "metadata": {},
   "outputs": [],
   "source": [
    "class DoubleWell:\n",
    "    def __init__(self, nx = 5, ny = 1, xlims=(-1.5,1.5), ylims=(-1.5,1.5), dt=1, nt=4, beta=1):\n",
    "        xs = np.linspace(*xlims, nx)\n",
    "        ys = np.linspace(*ylims, ny)\n",
    "        self.xs, self.ys = np.meshgrid(xs, ys, sparse=True)\n",
    "        self.beta = beta\n",
    "\n",
    "        self.nt = nt\n",
    "        self.dt = dt\n",
    "        self.nx = nx * ny\n",
    "        self._compute()\n",
    "\n",
    "    def _compute(self):\n",
    "        self.dts = np.repeat(self.dt, self.nt)\n",
    "        self.u = self.potential()\n",
    "        self.sqra = sqra.Sqra(self.u, beta=self.beta)\n",
    "        # use the commented version for dense computation\n",
    "        #self.Qs = [self.sqra.Q.toarray()]*len(self.dt)\n",
    "        self.Qs = [self.sqra.Q]*len(self.dts)\n",
    "    \n",
    "    def potential(self):\n",
    "        return (self.xs**2-1)**2 + self.ys**2\n",
    "\n",
    "    def name(self):\n",
    "        return \"dw\""
   ]
  },
  {
   "cell_type": "code",
   "execution_count": 7,
   "metadata": {},
   "outputs": [],
   "source": [
    "class TripleWell(DoubleWell):\n",
    "    def __init__(self, xlims=(-2, 2), ylims=(-1, 2), **kwargs):\n",
    "        super().__init__(xlims=xlims, ylims=ylims, **kwargs)\n",
    "\n",
    "    def potential(self):\n",
    "        x = self.xs\n",
    "        y = self.ys\n",
    "        V = (3/4 * np.exp(-x**2 - (y-1/3)**2)\n",
    "            - 3/4 * np.exp(-x**2 - (y-5/3)**2)\n",
    "            - 5/4 * np.exp(-(x-1)**2 - y**2)\n",
    "            - 5/4 * np.exp(-(x+1)**2 - y**2)\n",
    "            + 1/20 * x**4 + 1/20 * (y-1/3)**4)\n",
    "        return V\n",
    "\n",
    "    def name(self):\n",
    "        return \"tw\""
   ]
  },
  {
   "cell_type": "code",
   "execution_count": 8,
   "metadata": {},
   "outputs": [],
   "source": [
    "class TripleWellBeta(TripleWell):\n",
    "    def __init__(self, beta1, beta2, **kwargs):\n",
    "        self.beta1 = beta1\n",
    "        self.beta2 = beta2\n",
    "        \n",
    "        super().__init__(**kwargs)\n",
    "\n",
    "        assert self.nt % 2 == 0\n",
    "        assert self.nt > 1\n",
    "\n",
    "        \n",
    "    def _compute(self):\n",
    "        self.dts = np.repeat(self.dt, self.nt)\n",
    "        self.u = self.potential()\n",
    "        self.sqras = [sqra.Sqra(self.u, beta=self.beta1),\n",
    "                      sqra.Sqra(self.u, beta=self.beta2)]\n",
    "        # use the commented version for dense computation\n",
    "        #self.Qs = [self.sqra.Q.toarray()]*len(self.dt)\n",
    "\n",
    "        h = self.xs[0,1]-self.xs[0,0]\n",
    "        #assert np.isclose(self.h, self.ys[1,0]-self.ys[0,0])\n",
    "        nhalf = np.int(np.floor(self.nt/2))\n",
    "        phi1 = 1 / (h*h*self.beta1)\n",
    "        phi2 = 1 / (h*h*self.beta2)\n",
    "        self.Qs = [phi1 * self.sqras[0].Q] * nhalf\n",
    "        self.Qs = np.append(self.Qs, [phi2 * self.sqras[1].Q] * nhalf)\n",
    "\n",
    "    def name(self):\n",
    "        return \"twb\"\n"
   ]
  },
  {
   "cell_type": "code",
   "execution_count": 9,
   "metadata": {},
   "outputs": [
    {
     "name": "stderr",
     "output_type": "stream",
     "text": [
      "/usr/local/lib/python3.9/site-packages/scipy/sparse/_index.py:125: SparseEfficiencyWarning: Changing the sparsity structure of a csr_matrix is expensive. lil_matrix is more efficient.\n",
      "  self._set_arrayXarray(i, j, x)\n",
      "/usr/local/lib/python3.9/site-packages/scipy/sparse/_index.py:82: SparseEfficiencyWarning: Changing the sparsity structure of a csr_matrix is expensive. lil_matrix is more efficient.\n",
      "  self._set_intXint(row, col, x.flat[0])\n"
     ]
    }
   ],
   "source": [
    "m=TripleWellBeta(1,10, nx=9, ny=7, nt=6, dt=.2)\n",
    "mpaper=TripleWellBeta(1,10, nx=9, ny=7, nt=6, dt=1/3) # paper\n",
    "mbig = TripleWellBeta(1,10, nx=18, ny=14, nt=6, dt=1/3)\n",
    "\n",
    "m = mpaper\n",
    "pb = PaperPlotsSparse(m)"
   ]
  },
  {
   "cell_type": "code",
   "execution_count": 10,
   "metadata": {},
   "outputs": [
    {
     "name": "stdout",
     "output_type": "stream",
     "text": [
      "CPU times: user 590 ms, sys: 6.98 ms, total: 597 ms\n",
      "Wall time: 637 ms\n"
     ]
    },
    {
     "data": {
      "text/plain": [
       "<matplotlib.image.AxesImage at 0x1182a48e0>"
      ]
     },
     "execution_count": 10,
     "metadata": {},
     "output_type": "execute_result"
    },
    {
     "data": {
      "image/png": "[encoded data removed]",
      "text/plain": [
       "<Figure size 432x288 with 1 Axes>"
      ]
     },
     "metadata": {
      "needs_background": "light"
     },
     "output_type": "display_data"
    }
   ],
   "source": [
    "%time x = pb.koopman_sync()\n",
    "plt.imshow(x)"
   ]
  },
  {
   "cell_type": "code",
   "execution_count": 11,
   "metadata": {},
   "outputs": [
    {
     "name": "stdout",
     "output_type": "stream",
     "text": [
      "CPU times: user 156 ms, sys: 4.16 ms, total: 160 ms\n",
      "Wall time: 172 ms\n"
     ]
    },
    {
     "name": "stderr",
     "output_type": "stream",
     "text": [
      "/usr/local/lib/python3.9/site-packages/scipy/sparse/linalg/dsolve/linsolve.py:318: SparseEfficiencyWarning: splu requires CSC matrix format\n",
      "  warn('splu requires CSC matrix format', SparseEfficiencyWarning)\n",
      "/usr/local/lib/python3.9/site-packages/scipy/sparse/linalg/dsolve/linsolve.py:215: SparseEfficiencyWarning: spsolve is more efficient when sparse b is in the CSC matrix format\n",
      "  warn('spsolve is more efficient when sparse b '\n"
     ]
    },
    {
     "data": {
      "text/plain": [
       "<matplotlib.image.AxesImage at 0x11a39b520>"
      ]
     },
     "execution_count": 11,
     "metadata": {},
     "output_type": "execute_result"
    },
    {
     "data": {
      "image/png": "[encoded data removed]",
      "text/plain": [
       "<Figure size 432x288 with 1 Axes>"
      ]
     },
     "metadata": {
      "needs_background": "light"
     },
     "output_type": "display_data"
    }
   ],
   "source": [
    "%time x = pb.koopman_q()\n",
    "plt.imshow(x.toarray())"
   ]
  },
  {
   "cell_type": "code",
   "execution_count": 12,
   "metadata": {},
   "outputs": [
    {
     "ename": "AttributeError",
     "evalue": "'AJCS' object has no attribute 'koopman_system_iterated'",
     "output_type": "error",
     "traceback": [
      "\u001b[0;31m---------------------------------------------------------------------------\u001b[0m",
      "\u001b[0;31mAttributeError\u001b[0m                            Traceback (most recent call last)",
      "\u001b[0;32m<timed exec>\u001b[0m in \u001b[0;36m<module>\u001b[0;34m\u001b[0m\n",
      "\u001b[0;31mAttributeError\u001b[0m: 'AJCS' object has no attribute 'koopman_system_iterated'"
     ]
    },
    {
     "ename": "TypeError",
     "evalue": "Image data of dtype object cannot be converted to float",
     "output_type": "error",
     "traceback": [
      "\u001b[0;31m---------------------------------------------------------------------------\u001b[0m",
      "\u001b[0;31mTypeError\u001b[0m                                 Traceback (most recent call last)",
      "\u001b[0;32m<ipython-input-12-9fdb8923345c>\u001b[0m in \u001b[0;36m<module>\u001b[0;34m\u001b[0m\n\u001b[1;32m      1\u001b[0m \u001b[0mget_ipython\u001b[0m\u001b[0;34m(\u001b[0m\u001b[0;34m)\u001b[0m\u001b[0;34m.\u001b[0m\u001b[0mrun_line_magic\u001b[0m\u001b[0;34m(\u001b[0m\u001b[0;34m'time'\u001b[0m\u001b[0;34m,\u001b[0m \u001b[0;34m'x=pb.ajcs.koopman_system_iterated()'\u001b[0m\u001b[0;34m)\u001b[0m\u001b[0;34m\u001b[0m\u001b[0;34m\u001b[0m\u001b[0m\n\u001b[0;32m----> 2\u001b[0;31m \u001b[0mplt\u001b[0m\u001b[0;34m.\u001b[0m\u001b[0mimshow\u001b[0m\u001b[0;34m(\u001b[0m\u001b[0mx\u001b[0m\u001b[0;34m)\u001b[0m\u001b[0;34m\u001b[0m\u001b[0;34m\u001b[0m\u001b[0m\n\u001b[0m",
      "\u001b[0;32m/usr/local/lib/python3.9/site-packages/matplotlib/pyplot.py\u001b[0m in \u001b[0;36mimshow\u001b[0;34m(X, cmap, norm, aspect, interpolation, alpha, vmin, vmax, origin, extent, filternorm, filterrad, resample, url, data, **kwargs)\u001b[0m\n\u001b[1;32m   2722\u001b[0m         \u001b[0mfilternorm\u001b[0m\u001b[0;34m=\u001b[0m\u001b[0;32mTrue\u001b[0m\u001b[0;34m,\u001b[0m \u001b[0mfilterrad\u001b[0m\u001b[0;34m=\u001b[0m\u001b[0;36m4.0\u001b[0m\u001b[0;34m,\u001b[0m \u001b[0mresample\u001b[0m\u001b[0;34m=\u001b[0m\u001b[0;32mNone\u001b[0m\u001b[0;34m,\u001b[0m \u001b[0murl\u001b[0m\u001b[0;34m=\u001b[0m\u001b[0;32mNone\u001b[0m\u001b[0;34m,\u001b[0m\u001b[0;34m\u001b[0m\u001b[0;34m\u001b[0m\u001b[0m\n\u001b[1;32m   2723\u001b[0m         data=None, **kwargs):\n\u001b[0;32m-> 2724\u001b[0;31m     __ret = gca().imshow(\n\u001b[0m\u001b[1;32m   2725\u001b[0m         \u001b[0mX\u001b[0m\u001b[0;34m,\u001b[0m \u001b[0mcmap\u001b[0m\u001b[0;34m=\u001b[0m\u001b[0mcmap\u001b[0m\u001b[0;34m,\u001b[0m \u001b[0mnorm\u001b[0m\u001b[0;34m=\u001b[0m\u001b[0mnorm\u001b[0m\u001b[0;34m,\u001b[0m \u001b[0maspect\u001b[0m\u001b[0;34m=\u001b[0m\u001b[0maspect\u001b[0m\u001b[0;34m,\u001b[0m\u001b[0;34m\u001b[0m\u001b[0;34m\u001b[0m\u001b[0m\n\u001b[1;32m   2726\u001b[0m         \u001b[0minterpolation\u001b[0m\u001b[0;34m=\u001b[0m\u001b[0minterpolation\u001b[0m\u001b[0;34m,\u001b[0m \u001b[0malpha\u001b[0m\u001b[0;34m=\u001b[0m\u001b[0malpha\u001b[0m\u001b[0;34m,\u001b[0m \u001b[0mvmin\u001b[0m\u001b[0;34m=\u001b[0m\u001b[0mvmin\u001b[0m\u001b[0;34m,\u001b[0m\u001b[0;34m\u001b[0m\u001b[0;34m\u001b[0m\u001b[0m\n",
      "\u001b[0;32m/usr/local/lib/python3.9/site-packages/matplotlib/__init__.py\u001b[0m in \u001b[0;36minner\u001b[0;34m(ax, data, *args, **kwargs)\u001b[0m\n\u001b[1;32m   1445\u001b[0m     \u001b[0;32mdef\u001b[0m \u001b[0minner\u001b[0m\u001b[0;34m(\u001b[0m\u001b[0max\u001b[0m\u001b[0;34m,\u001b[0m \u001b[0;34m*\u001b[0m\u001b[0margs\u001b[0m\u001b[0;34m,\u001b[0m \u001b[0mdata\u001b[0m\u001b[0;34m=\u001b[0m\u001b[0;32mNone\u001b[0m\u001b[0;34m,\u001b[0m \u001b[0;34m**\u001b[0m\u001b[0mkwargs\u001b[0m\u001b[0;34m)\u001b[0m\u001b[0;34m:\u001b[0m\u001b[0;34m\u001b[0m\u001b[0;34m\u001b[0m\u001b[0m\n\u001b[1;32m   1446\u001b[0m         \u001b[0;32mif\u001b[0m \u001b[0mdata\u001b[0m \u001b[0;32mis\u001b[0m \u001b[0;32mNone\u001b[0m\u001b[0;34m:\u001b[0m\u001b[0;34m\u001b[0m\u001b[0;34m\u001b[0m\u001b[0m\n\u001b[0;32m-> 1447\u001b[0;31m             \u001b[0;32mreturn\u001b[0m \u001b[0mfunc\u001b[0m\u001b[0;34m(\u001b[0m\u001b[0max\u001b[0m\u001b[0;34m,\u001b[0m \u001b[0;34m*\u001b[0m\u001b[0mmap\u001b[0m\u001b[0;34m(\u001b[0m\u001b[0msanitize_sequence\u001b[0m\u001b[0;34m,\u001b[0m \u001b[0margs\u001b[0m\u001b[0;34m)\u001b[0m\u001b[0;34m,\u001b[0m \u001b[0;34m**\u001b[0m\u001b[0mkwargs\u001b[0m\u001b[0;34m)\u001b[0m\u001b[0;34m\u001b[0m\u001b[0;34m\u001b[0m\u001b[0m\n\u001b[0m\u001b[1;32m   1448\u001b[0m \u001b[0;34m\u001b[0m\u001b[0m\n\u001b[1;32m   1449\u001b[0m         \u001b[0mbound\u001b[0m \u001b[0;34m=\u001b[0m \u001b[0mnew_sig\u001b[0m\u001b[0;34m.\u001b[0m\u001b[0mbind\u001b[0m\u001b[0;34m(\u001b[0m\u001b[0max\u001b[0m\u001b[0;34m,\u001b[0m \u001b[0;34m*\u001b[0m\u001b[0margs\u001b[0m\u001b[0;34m,\u001b[0m \u001b[0;34m**\u001b[0m\u001b[0mkwargs\u001b[0m\u001b[0;34m)\u001b[0m\u001b[0;34m\u001b[0m\u001b[0;34m\u001b[0m\u001b[0m\n",
      "\u001b[0;32m/usr/local/lib/python3.9/site-packages/matplotlib/axes/_axes.py\u001b[0m in \u001b[0;36mimshow\u001b[0;34m(self, X, cmap, norm, aspect, interpolation, alpha, vmin, vmax, origin, extent, filternorm, filterrad, resample, url, **kwargs)\u001b[0m\n\u001b[1;32m   5521\u001b[0m                               resample=resample, **kwargs)\n\u001b[1;32m   5522\u001b[0m \u001b[0;34m\u001b[0m\u001b[0m\n\u001b[0;32m-> 5523\u001b[0;31m         \u001b[0mim\u001b[0m\u001b[0;34m.\u001b[0m\u001b[0mset_data\u001b[0m\u001b[0;34m(\u001b[0m\u001b[0mX\u001b[0m\u001b[0;34m)\u001b[0m\u001b[0;34m\u001b[0m\u001b[0;34m\u001b[0m\u001b[0m\n\u001b[0m\u001b[1;32m   5524\u001b[0m         \u001b[0mim\u001b[0m\u001b[0;34m.\u001b[0m\u001b[0mset_alpha\u001b[0m\u001b[0;34m(\u001b[0m\u001b[0malpha\u001b[0m\u001b[0;34m)\u001b[0m\u001b[0;34m\u001b[0m\u001b[0;34m\u001b[0m\u001b[0m\n\u001b[1;32m   5525\u001b[0m         \u001b[0;32mif\u001b[0m \u001b[0mim\u001b[0m\u001b[0;34m.\u001b[0m\u001b[0mget_clip_path\u001b[0m\u001b[0;34m(\u001b[0m\u001b[0;34m)\u001b[0m \u001b[0;32mis\u001b[0m \u001b[0;32mNone\u001b[0m\u001b[0;34m:\u001b[0m\u001b[0;34m\u001b[0m\u001b[0;34m\u001b[0m\u001b[0m\n",
      "\u001b[0;32m/usr/local/lib/python3.9/site-packages/matplotlib/image.py\u001b[0m in \u001b[0;36mset_data\u001b[0;34m(self, A)\u001b[0m\n\u001b[1;32m    700\u001b[0m         if (self._A.dtype != np.uint8 and\n\u001b[1;32m    701\u001b[0m                 not np.can_cast(self._A.dtype, float, \"same_kind\")):\n\u001b[0;32m--> 702\u001b[0;31m             raise TypeError(\"Image data of dtype {} cannot be converted to \"\n\u001b[0m\u001b[1;32m    703\u001b[0m                             \"float\".format(self._A.dtype))\n\u001b[1;32m    704\u001b[0m \u001b[0;34m\u001b[0m\u001b[0m\n",
      "\u001b[0;31mTypeError\u001b[0m: Image data of dtype object cannot be converted to float"
     ]
    },
    {
     "data": {
      "image/png": "[encoded data removed]",
      "text/plain": [
       "<Figure size 432x288 with 1 Axes>"
      ]
     },
     "metadata": {
      "needs_background": "light"
     },
     "output_type": "display_data"
    }
   ],
   "source": [
    "%time x=pb.ajcs.koopman_system_iterated()\n",
    "plt.imshow(x)"
   ]
  },
  {
   "cell_type": "code",
   "execution_count": 13,
   "metadata": {},
   "outputs": [
    {
     "ename": "AttributeError",
     "evalue": "'AJCS' object has no attribute 'koopman_system'",
     "output_type": "error",
     "traceback": [
      "\u001b[0;31m---------------------------------------------------------------------------\u001b[0m",
      "\u001b[0;31mAttributeError\u001b[0m                            Traceback (most recent call last)",
      "\u001b[0;32m<timed exec>\u001b[0m in \u001b[0;36m<module>\u001b[0;34m\u001b[0m\n",
      "\u001b[0;31mAttributeError\u001b[0m: 'AJCS' object has no attribute 'koopman_system'"
     ]
    },
    {
     "ename": "TypeError",
     "evalue": "Image data of dtype object cannot be converted to float",
     "output_type": "error",
     "traceback": [
      "\u001b[0;31m---------------------------------------------------------------------------\u001b[0m",
      "\u001b[0;31mTypeError\u001b[0m                                 Traceback (most recent call last)",
      "\u001b[0;32m<ipython-input-13-cefa0bfc8457>\u001b[0m in \u001b[0;36m<module>\u001b[0;34m\u001b[0m\n\u001b[1;32m      1\u001b[0m \u001b[0mget_ipython\u001b[0m\u001b[0;34m(\u001b[0m\u001b[0;34m)\u001b[0m\u001b[0;34m.\u001b[0m\u001b[0mrun_line_magic\u001b[0m\u001b[0;34m(\u001b[0m\u001b[0;34m'time'\u001b[0m\u001b[0;34m,\u001b[0m \u001b[0;34m'x = pb.ajcs.koopman_system()'\u001b[0m\u001b[0;34m)\u001b[0m\u001b[0;34m\u001b[0m\u001b[0;34m\u001b[0m\u001b[0m\n\u001b[0;32m----> 2\u001b[0;31m \u001b[0mplt\u001b[0m\u001b[0;34m.\u001b[0m\u001b[0mimshow\u001b[0m\u001b[0;34m(\u001b[0m\u001b[0mx\u001b[0m\u001b[0;34m)\u001b[0m\u001b[0;34m\u001b[0m\u001b[0;34m\u001b[0m\u001b[0m\n\u001b[0m",
      "\u001b[0;32m/usr/local/lib/python3.9/site-packages/matplotlib/pyplot.py\u001b[0m in \u001b[0;36mimshow\u001b[0;34m(X, cmap, norm, aspect, interpolation, alpha, vmin, vmax, origin, extent, filternorm, filterrad, resample, url, data, **kwargs)\u001b[0m\n\u001b[1;32m   2722\u001b[0m         \u001b[0mfilternorm\u001b[0m\u001b[0;34m=\u001b[0m\u001b[0;32mTrue\u001b[0m\u001b[0;34m,\u001b[0m \u001b[0mfilterrad\u001b[0m\u001b[0;34m=\u001b[0m\u001b[0;36m4.0\u001b[0m\u001b[0;34m,\u001b[0m \u001b[0mresample\u001b[0m\u001b[0;34m=\u001b[0m\u001b[0;32mNone\u001b[0m\u001b[0;34m,\u001b[0m \u001b[0murl\u001b[0m\u001b[0;34m=\u001b[0m\u001b[0;32mNone\u001b[0m\u001b[0;34m,\u001b[0m\u001b[0;34m\u001b[0m\u001b[0;34m\u001b[0m\u001b[0m\n\u001b[1;32m   2723\u001b[0m         data=None, **kwargs):\n\u001b[0;32m-> 2724\u001b[0;31m     __ret = gca().imshow(\n\u001b[0m\u001b[1;32m   2725\u001b[0m         \u001b[0mX\u001b[0m\u001b[0;34m,\u001b[0m \u001b[0mcmap\u001b[0m\u001b[0;34m=\u001b[0m\u001b[0mcmap\u001b[0m\u001b[0;34m,\u001b[0m \u001b[0mnorm\u001b[0m\u001b[0;34m=\u001b[0m\u001b[0mnorm\u001b[0m\u001b[0;34m,\u001b[0m \u001b[0maspect\u001b[0m\u001b[0;34m=\u001b[0m\u001b[0maspect\u001b[0m\u001b[0;34m,\u001b[0m\u001b[0;34m\u001b[0m\u001b[0;34m\u001b[0m\u001b[0m\n\u001b[1;32m   2726\u001b[0m         \u001b[0minterpolation\u001b[0m\u001b[0;34m=\u001b[0m\u001b[0minterpolation\u001b[0m\u001b[0;34m,\u001b[0m \u001b[0malpha\u001b[0m\u001b[0;34m=\u001b[0m\u001b[0malpha\u001b[0m\u001b[0;34m,\u001b[0m \u001b[0mvmin\u001b[0m\u001b[0;34m=\u001b[0m\u001b[0mvmin\u001b[0m\u001b[0;34m,\u001b[0m\u001b[0;34m\u001b[0m\u001b[0;34m\u001b[0m\u001b[0m\n",
      "\u001b[0;32m/usr/local/lib/python3.9/site-packages/matplotlib/__init__.py\u001b[0m in \u001b[0;36minner\u001b[0;34m(ax, data, *args, **kwargs)\u001b[0m\n\u001b[1;32m   1445\u001b[0m     \u001b[0;32mdef\u001b[0m \u001b[0minner\u001b[0m\u001b[0;34m(\u001b[0m\u001b[0max\u001b[0m\u001b[0;34m,\u001b[0m \u001b[0;34m*\u001b[0m\u001b[0margs\u001b[0m\u001b[0;34m,\u001b[0m \u001b[0mdata\u001b[0m\u001b[0;34m=\u001b[0m\u001b[0;32mNone\u001b[0m\u001b[0;34m,\u001b[0m \u001b[0;34m**\u001b[0m\u001b[0mkwargs\u001b[0m\u001b[0;34m)\u001b[0m\u001b[0;34m:\u001b[0m\u001b[0;34m\u001b[0m\u001b[0;34m\u001b[0m\u001b[0m\n\u001b[1;32m   1446\u001b[0m         \u001b[0;32mif\u001b[0m \u001b[0mdata\u001b[0m \u001b[0;32mis\u001b[0m \u001b[0;32mNone\u001b[0m\u001b[0;34m:\u001b[0m\u001b[0;34m\u001b[0m\u001b[0;34m\u001b[0m\u001b[0m\n\u001b[0;32m-> 1447\u001b[0;31m             \u001b[0;32mreturn\u001b[0m \u001b[0mfunc\u001b[0m\u001b[0;34m(\u001b[0m\u001b[0max\u001b[0m\u001b[0;34m,\u001b[0m \u001b[0;34m*\u001b[0m\u001b[0mmap\u001b[0m\u001b[0;34m(\u001b[0m\u001b[0msanitize_sequence\u001b[0m\u001b[0;34m,\u001b[0m \u001b[0margs\u001b[0m\u001b[0;34m)\u001b[0m\u001b[0;34m,\u001b[0m \u001b[0;34m**\u001b[0m\u001b[0mkwargs\u001b[0m\u001b[0;34m)\u001b[0m\u001b[0;34m\u001b[0m\u001b[0;34m\u001b[0m\u001b[0m\n\u001b[0m\u001b[1;32m   1448\u001b[0m \u001b[0;34m\u001b[0m\u001b[0m\n\u001b[1;32m   1449\u001b[0m         \u001b[0mbound\u001b[0m \u001b[0;34m=\u001b[0m \u001b[0mnew_sig\u001b[0m\u001b[0;34m.\u001b[0m\u001b[0mbind\u001b[0m\u001b[0;34m(\u001b[0m\u001b[0max\u001b[0m\u001b[0;34m,\u001b[0m \u001b[0;34m*\u001b[0m\u001b[0margs\u001b[0m\u001b[0;34m,\u001b[0m \u001b[0;34m**\u001b[0m\u001b[0mkwargs\u001b[0m\u001b[0;34m)\u001b[0m\u001b[0;34m\u001b[0m\u001b[0;34m\u001b[0m\u001b[0m\n",
      "\u001b[0;32m/usr/local/lib/python3.9/site-packages/matplotlib/axes/_axes.py\u001b[0m in \u001b[0;36mimshow\u001b[0;34m(self, X, cmap, norm, aspect, interpolation, alpha, vmin, vmax, origin, extent, filternorm, filterrad, resample, url, **kwargs)\u001b[0m\n\u001b[1;32m   5521\u001b[0m                               resample=resample, **kwargs)\n\u001b[1;32m   5522\u001b[0m \u001b[0;34m\u001b[0m\u001b[0m\n\u001b[0;32m-> 5523\u001b[0;31m         \u001b[0mim\u001b[0m\u001b[0;34m.\u001b[0m\u001b[0mset_data\u001b[0m\u001b[0;34m(\u001b[0m\u001b[0mX\u001b[0m\u001b[0;34m)\u001b[0m\u001b[0;34m\u001b[0m\u001b[0;34m\u001b[0m\u001b[0m\n\u001b[0m\u001b[1;32m   5524\u001b[0m         \u001b[0mim\u001b[0m\u001b[0;34m.\u001b[0m\u001b[0mset_alpha\u001b[0m\u001b[0;34m(\u001b[0m\u001b[0malpha\u001b[0m\u001b[0;34m)\u001b[0m\u001b[0;34m\u001b[0m\u001b[0;34m\u001b[0m\u001b[0m\n\u001b[1;32m   5525\u001b[0m         \u001b[0;32mif\u001b[0m \u001b[0mim\u001b[0m\u001b[0;34m.\u001b[0m\u001b[0mget_clip_path\u001b[0m\u001b[0;34m(\u001b[0m\u001b[0;34m)\u001b[0m \u001b[0;32mis\u001b[0m \u001b[0;32mNone\u001b[0m\u001b[0;34m:\u001b[0m\u001b[0;34m\u001b[0m\u001b[0;34m\u001b[0m\u001b[0m\n",
      "\u001b[0;32m/usr/local/lib/python3.9/site-packages/matplotlib/image.py\u001b[0m in \u001b[0;36mset_data\u001b[0;34m(self, A)\u001b[0m\n\u001b[1;32m    700\u001b[0m         if (self._A.dtype != np.uint8 and\n\u001b[1;32m    701\u001b[0m                 not np.can_cast(self._A.dtype, float, \"same_kind\")):\n\u001b[0;32m--> 702\u001b[0;31m             raise TypeError(\"Image data of dtype {} cannot be converted to \"\n\u001b[0m\u001b[1;32m    703\u001b[0m                             \"float\".format(self._A.dtype))\n\u001b[1;32m    704\u001b[0m \u001b[0;34m\u001b[0m\u001b[0m\n",
      "\u001b[0;31mTypeError\u001b[0m: Image data of dtype object cannot be converted to float"
     ]
    },
    {
     "data": {
      "image/png": "[encoded data removed]",
      "text/plain": [
       "<Figure size 432x288 with 1 Axes>"
      ]
     },
     "metadata": {
      "needs_background": "light"
     },
     "output_type": "display_data"
    }
   ],
   "source": [
    "%time x = pb.ajcs.koopman_system()\n",
    "plt.imshow(x)"
   ]
  },
  {
   "cell_type": "code",
   "execution_count": 14,
   "metadata": {},
   "outputs": [
    {
     "data": {
      "image/png": "[encoded data removed]",
      "text/plain": [
       "<Figure size 432x288 with 2 Axes>"
      ]
     },
     "metadata": {
      "needs_background": "light"
     },
     "output_type": "display_data"
    }
   ],
   "source": [
    "plt.set_cmap(\"bone_r\")\n",
    "#plt.set_cmap(\"afmhot_r\")\n",
    "\n",
    "pb.plot_transkernel()\n",
    "plt.clim(0,0.1)\n",
    "tx, lb = [i*pb.nx - .5 for i in range(7)], [\"\" if i%3 > 0 else f\"t={np.int(i/3)}\" for i in range(7)]\n",
    "plt.xticks(tx,lb)\n",
    "plt.yticks(tx,lb)\n",
    "plt.grid(alpha=.5)\n",
    "plt.savefig(\"ex2k.pdf\", bbox_inches=\"tight\")\n",
    "plt.show()\n"
   ]
  },
  {
   "cell_type": "code",
   "execution_count": 15,
   "metadata": {},
   "outputs": [
    {
     "data": {
      "text/plain": [
       "(142884, 4620, 0.03233392122281011)"
      ]
     },
     "execution_count": 15,
     "metadata": {},
     "output_type": "execute_result"
    }
   ],
   "source": [
    "ntot = np.prod(pb.kernelmatrix().shape)\n",
    "nnz  = np.sum(pb.kernelmatrix() > 0)\n",
    "ntot, nnz, nnz/ntot"
   ]
  },
  {
   "cell_type": "code",
   "execution_count": 16,
   "metadata": {},
   "outputs": [
    {
     "data": {
      "image/png": "[encoded data removed]",
      "text/plain": [
       "<Figure size 432x288 with 1 Axes>"
      ]
     },
     "metadata": {},
     "output_type": "display_data"
    }
   ],
   "source": [
    "plt.spy(pb.kernelmatrix())\n",
    "plt.xlabel(\"X x T\")\n",
    "plt.ylabel(\"X x T\")\n",
    "plt.xticks([])\n",
    "plt.yticks([])\n",
    "plt.savefig(\"ex2s.pdf\", bbox_inches=\"tight\")"
   ]
  },
  {
   "cell_type": "code",
   "execution_count": null,
   "metadata": {},
   "outputs": [
    {
     "name": "stdout",
     "output_type": "stream",
     "text": [
      "0.9999999999999999\n",
      "0.49999999999999994\n",
      "0.3333333333333333\n",
      "0.19999999999999998\n",
      "0.12499999999999999\n"
     ]
    },
    {
     "name": "stderr",
     "output_type": "stream",
     "text": [
      "/usr/local/lib/python3.9/site-packages/scipy/sparse/_index.py:125: SparseEfficiencyWarning: Changing the sparsity structure of a csr_matrix is expensive. lil_matrix is more efficient.\n",
      "  self._set_arrayXarray(i, j, x)\n",
      "/usr/local/lib/python3.9/site-packages/scipy/sparse/_index.py:82: SparseEfficiencyWarning: Changing the sparsity structure of a csr_matrix is expensive. lil_matrix is more efficient.\n",
      "  self._set_intXint(row, col, x.flat[0])\n"
     ]
    },
    {
     "name": "stdout",
     "output_type": "stream",
     "text": [
      "0.07692307692307691\n",
      "0.04545454545454545\n",
      "0.027777777777777776\n",
      "0.016666666666666666\n",
      "0.009999999999999998\n"
     ]
    },
    {
     "name": "stderr",
     "output_type": "stream",
     "text": [
      "/usr/local/lib/python3.9/site-packages/scipy/sparse/linalg/dsolve/linsolve.py:318: SparseEfficiencyWarning: splu requires CSC matrix format\n",
      "  warn('splu requires CSC matrix format', SparseEfficiencyWarning)\n",
      "/usr/local/lib/python3.9/site-packages/scipy/sparse/linalg/dsolve/linsolve.py:215: SparseEfficiencyWarning: spsolve is more efficient when sparse b is in the CSC matrix format\n",
      "  warn('spsolve is more efficient when sparse b '\n"
     ]
    }
   ],
   "source": [
    "ae = ApproximationError(m, tmax=100, nt=10)"
   ]
  },
  {
   "cell_type": "code",
   "execution_count": null,
   "metadata": {},
   "outputs": [],
   "source": [
    "size=3\n",
    "plt.figure(figsize=(3*1.618,3))\n",
    "plt.rc('text', usetex=True)\n",
    "ae.plot()\n",
    "plt.grid(which=\"major\",alpha=.3)\n",
    "plt.savefig(\"tw_error.pdf\", bbox_inches=\"tight\")"
   ]
  },
  {
   "cell_type": "markdown",
   "metadata": {},
   "source": [
    "p0 = np.zeros((m.nx, m.nt))\n",
    "p0[:,0] = 1 / m.nx\n",
    "pb.plot_sync(0, p0)"
   ]
  },
  {
   "cell_type": "markdown",
   "metadata": {},
   "source": [
    "d = DoubleWell(nx=20)\n",
    "d = DoubleWell(nx=5, xlims=(-2,2),dt=1, nt=5)\n",
    "t = TripleWell(nx=10, ny=8, nt=10)\n",
    "\n",
    "model = t"
   ]
  },
  {
   "cell_type": "code",
   "execution_count": null,
   "metadata": {},
   "outputs": [],
   "source": [
    "class TwoGraph:\n",
    "    def __init__(self, nt = 2, dt=1):\n",
    "        q1 = 1\n",
    "        q0 = 1e-6\n",
    "        self.Q1 = np.array([[-q1,q1],[q0,-q0]])\n",
    "        self.Q2 = np.array([[-q0, q0],[q1,-q1]])\n",
    "        self.nx = 2\n",
    "        self.nt = nt\n",
    "        self.Qs = np.zeros((self.nx,self.nx,self.nt))\n",
    "        \n",
    "        for i in range(nt):\n",
    "            self.Qs[:,:,i] = self.Q1 if i/nt < .5 else self.Q2\n",
    "\n",
    "        self.Qs = [self.Q1 if i/nt < .5 else self.Q2 for i in range(nt)]\n",
    "\n",
    "        self.dts = [dt]*nt\n",
    "        #self.dts[0] = 1e-5\n",
    "        #self.dts[-1] = 1e-5\n",
    "\n",
    "    def name(self):\n",
    "        return \"twograph\""
   ]
  },
  {
   "cell_type": "code",
   "execution_count": null,
   "metadata": {},
   "outputs": [],
   "source": [
    "class SingleQ:\n",
    "    def __init__(self, Q, nt = 2, dt=1):\n",
    "        self.Qs = [Q for i in range(nt)]\n",
    "        self.dts = [dt]*nt\n",
    "        self.nx = np.size(Q,0)\n",
    "        self.nt = nt\n",
    "        self.x0 = np.zeros((nt, self.nx))\n",
    "        self.x0[0,0] = 1\n",
    "    \n",
    "    def name(self):\n",
    "        return \"simpleq\"\n",
    "\n",
    "Q =  np.array([[-2,1,1],[1,-2,1],[1, 0, -1]])\n",
    "qm = SingleQ(Q, nt=10, dt=.2)\n",
    "pqm = PaperPlots(qm)"
   ]
  },
  {
   "cell_type": "code",
   "execution_count": null,
   "metadata": {},
   "outputs": [],
   "source": [
    "pqm.plot_all(save=True)"
   ]
  },
  {
   "cell_type": "code",
   "execution_count": null,
   "metadata": {},
   "outputs": [],
   "source": [
    "\n",
    "p = plt.imshow(qm.x0.T)\n",
    "self = pqm\n",
    "#cb = plt.colorbar()\n",
    "#cb.set_label(\"jump activity\")\n",
    "\n",
    "plt.ylabel(\"X\")\n",
    "plt.xlabel(\"t\")\n",
    "plt.yticks(np.arange(self.nx), np.arange(1,self.nx+1))\n",
    "plt.xticks(np.arange(self.nt+1)[[0,-1]] -.5, np.hstack([0,np.cumsum(self.dt)])[[0,-1]]);\n",
    "plt.savefig(\"slides/x0.pdf\")"
   ]
  },
  {
   "cell_type": "code",
   "execution_count": null,
   "metadata": {},
   "outputs": [],
   "source": [
    "jx0 = pqm.ajc.jump(qm.x0.T)\n",
    "p = plt.imshow(jx0)\n",
    "self = pqm\n",
    "#cb = plt.colorbar()\n",
    "#cb.set_label(\"jump activity\")\n",
    "\n",
    "plt.ylabel(\"X\")\n",
    "plt.xlabel(\"t\")\n",
    "plt.yticks(np.arange(self.nx), np.arange(1,self.nx+1))\n",
    "plt.xticks(np.arange(self.nt+1)[[0,-1]] -.5, np.hstack([0,np.cumsum(self.dt)])[[0,-1]]);\n",
    "plt.savefig(\"slides/jx0.pdf\")"
   ]
  },
  {
   "cell_type": "code",
   "execution_count": null,
   "metadata": {},
   "outputs": [],
   "source": [
    "jx1 = pqm.ajc.jump(jx0)\n",
    "p = plt.imshow(jx1)\n",
    "self = pqm\n",
    "#cb = plt.colorbar()\n",
    "#cb.set_label(\"jump activity\")\n",
    "\n",
    "plt.ylabel(\"X\")\n",
    "plt.xlabel(\"t\")\n",
    "plt.yticks(np.arange(self.nx), np.arange(1,self.nx+1))\n",
    "plt.xticks(np.arange(self.nt+1)[[0,-1]] -.5, np.hstack([0,np.cumsum(self.dt)])[[0,-1]]);\n",
    "plt.savefig(\"slides/jx1.pdf\")"
   ]
  },
  {
   "cell_type": "code",
   "execution_count": null,
   "metadata": {},
   "outputs": [],
   "source": []
  },
  {
   "cell_type": "code",
   "execution_count": null,
   "metadata": {},
   "outputs": [],
   "source": [
    "plt.set_cmap(\"bone_r\")\n",
    "#plt.set_cmap(\"afmhot_r\")\n",
    "\n",
    "g = TwoGraph(nt=8, dt=1)\n",
    "PaperPlots(g).plot_all(save=True)"
   ]
  },
  {
   "cell_type": "code",
   "execution_count": null,
   "metadata": {},
   "outputs": [],
   "source": []
  },
  {
   "cell_type": "code",
   "execution_count": null,
   "metadata": {},
   "outputs": [],
   "source": [
    "pg = PaperPlots(g)\n",
    "p = plt.imshow(pg.kernelmatrix(), interpolation=\"nearest\")\n",
    "\n",
    "cb = plt.colorbar()\n",
    "plt.xticks([], labels=None)\n",
    "tx, lb = [i*2 - .5 for i in range(9)], [\"\" if i%4 > 0 else f\"t={i}\" for i in range(9)]\n",
    "plt.xticks(tx,lb)\n",
    "plt.yticks(np.array(tx)-0.05, lb)\n",
    "plt.grid(alpha=.4)\n",
    "plt.xlabel(\"X x T\")\n",
    "plt.ylabel(\"X x T\")\n",
    "plt.savefig(\"ex1k.pdf\", bbox_inches=\"tight\")"
   ]
  },
  {
   "cell_type": "code",
   "execution_count": null,
   "metadata": {},
   "outputs": [],
   "source": [
    "p = pg.plot_jumpactivity()\n",
    "plt.clim(0,1)\n",
    "plt.savefig(\"ex1a.pdf\")"
   ]
  },
  {
   "cell_type": "code",
   "execution_count": null,
   "metadata": {},
   "outputs": [],
   "source": [
    "def evolutionplots(self):\n",
    "        x0 = 0\n",
    "        p0 = np.zeros((self.nx,self.nt))\n",
    "        p0[x0,0] = 1\n",
    "\n",
    "        ax1 = plt.subplot(211)\n",
    "\n",
    "        \n",
    "\n",
    "        p = plt.imshow(self.jumpactivity(p0))\n",
    "        plt.clim(0,1)\n",
    "        #cb = plt.colorbar()\n",
    "        #cb.set_label(\"jump activity\")\n",
    "\n",
    "        plt.ylabel(\"X\")\n",
    "\n",
    "        #plt.xlabel(\"t\")\n",
    "        plt.yticks(np.arange(self.nx), np.arange(1,self.nx+1))\n",
    "        \n",
    "        plt.xticks(np.arange(self.nt+1) -.5, np.hstack([0,np.cumsum(self.dt)]));\n",
    "        plt.yticks([0,1],[\"A\",\"B\"])\n",
    "        plt.xticks([])\n",
    "\n",
    "        ps = self.sync(p0)\n",
    "        ax2 = plt.subplot(212)\n",
    "\n",
    "        p = plt.imshow(ps)\n",
    "        plt.clim(0,1)\n",
    "        #cb = plt.colorbar()\n",
    "        #cb.set_label(\"probability (synchronized, one state)\")\n",
    "\n",
    "        plt.ylabel(\"X\")\n",
    "        plt.xlabel(\"T\")\n",
    "        plt.yticks(np.arange(self.nx), np.arange(1,self.nx+1))\n",
    "        plt.xticks(np.arange(self.nt+1) -.5, np.hstack([0,np.cumsum(self.dt)]));\n",
    "        plt.yticks([0,1],[\"A\",\"B\"])\n",
    "        #plt.subplots_adjust(hspace=0.8)\n",
    "\n",
    "        plt.colorbar(ax = [ax1, ax2], location=\"top\", shrink=0.94, ticks=[0,1], anchor=(0.5,0.6))\n",
    "\n",
    "evolutionplots(pg)\n",
    "plt.savefig(\"ex1ev.pdf\", bbox_inches=\"tight\")"
   ]
  },
  {
   "cell_type": "code",
   "execution_count": null,
   "metadata": {},
   "outputs": [],
   "source": [
    "p = pg.plot_sync()\n",
    "plt.clim(0,1)\n",
    "plt.colorbar(orientation=\"horizontal\")\n",
    "plt.savefig(\"ex1s.pdf\")"
   ]
  },
  {
   "cell_type": "code",
   "execution_count": null,
   "metadata": {},
   "outputs": [],
   "source": [
    "ae.nts"
   ]
  },
  {
   "cell_type": "code",
   "execution_count": null,
   "metadata": {},
   "outputs": [],
   "source": [
    "b2=TripleWellBeta(1,10, nx=18, ny=14, nt=6, dt=.2)\n",
    "ae2 = ApproximationError(b2, tmax=50, nt=5)"
   ]
  },
  {
   "cell_type": "code",
   "execution_count": null,
   "metadata": {},
   "outputs": [],
   "source": [
    "ae.plot()\n",
    "ae2.plot()"
   ]
  },
  {
   "cell_type": "code",
   "execution_count": null,
   "metadata": {},
   "outputs": [],
   "source": [
    "x=np.vstack(np.array(expm(t*m.Qs[1]).todense())[:,0].reshape(-1) for t in np.arange(0,1,0.01))"
   ]
  },
  {
   "cell_type": "code",
   "execution_count": null,
   "metadata": {},
   "outputs": [],
   "source": [
    "plt.plot(x)\n",
    "plt.xscale(\"log\")\n",
    "plt.yscale(\"log\")\n",
    "plt.show()"
   ]
  },
  {
   "cell_type": "code",
   "execution_count": null,
   "metadata": {},
   "outputs": [],
   "source": [
    "x"
   ]
  },
  {
   "cell_type": "code",
   "execution_count": null,
   "metadata": {},
   "outputs": [],
   "source": []
  }
 ],
 "metadata": {
  "kernelspec": {
   "display_name": "Python 3",
   "language": "python",
   "name": "python3"
  },
  "language_info": {
   "codemirror_mode": {
    "name": "ipython",
    "version": 3
   },
   "file_extension": ".py",
   "mimetype": "text/x-python",
   "name": "python",
   "nbconvert_exporter": "python",
   "pygments_lexer": "ipython3",
   "version": "3.9.1"
  }
 },
 "nbformat": 4,
 "nbformat_minor": 2
}
