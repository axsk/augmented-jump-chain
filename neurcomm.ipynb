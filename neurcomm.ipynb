{
 "cells": [
  {
   "cell_type": "code",
   "execution_count": null,
   "metadata": {
    "tags": []
   },
   "outputs": [],
   "source": [
    "using PyCall\n",
    "using PyPlot\n",
    "using ForwardDiff, Flux\n",
    "using LinearAlgebra\n",
    "using Distributions\n",
    "cmd = pyimport(\"cmdtools\")"
   ]
  },
  {
   "cell_type": "code",
   "execution_count": 2,
   "metadata": {},
   "outputs": [
    {
     "output_type": "error",
     "ename": "LoadError",
     "evalue": "\u001b[91mUndefVarError: cmd not defined\u001b[39m",
     "traceback": [
      "\u001b[91mUndefVarError: cmd not defined\u001b[39m",
      "",
      "Stacktrace:",
      " [1] top-level scope at In[2]:3",
      " [2] include_string(::Function, ::Module, ::String, ::String) at ./loading.jl:1091"
     ]
    }
   ],
   "source": [
    "N = 13\n",
    "\n",
    "sys = cmd.systems.diffusion.DoubleWell(nx=N,beta=3, xlims=(-1.5,1.5))\n",
    "Q = sys.Q.todense()\n",
    "K = exp(Q*.5)"
   ]
  },
  {
   "cell_type": "code",
   "execution_count": null,
   "metadata": {},
   "outputs": [],
   "source": [
    "plot(sys.u')"
   ]
  },
  {
   "cell_type": "code",
   "execution_count": null,
   "metadata": {},
   "outputs": [],
   "source": [
    "imshow(K)"
   ]
  },
  {
   "cell_type": "code",
   "execution_count": null,
   "metadata": {},
   "outputs": [],
   "source": [
    "bnd = fill(NaN,size(K,1))\n",
    "bnd[1+1] = 0\n",
    "bnd[end-1] = 1\n",
    "\n",
    "bndinds = findall(!isnan, bnd)\n",
    "bnd"
   ]
  },
  {
   "cell_type": "code",
   "execution_count": null,
   "metadata": {},
   "outputs": [],
   "source": [
    "function committor(K, b)\n",
    "    A = copy(K)\n",
    "    b = copy(b)\n",
    "    for i in 1:length(b)\n",
    "        if isnan(b[i])\n",
    "            b[i] = 0\n",
    "            A[i,i] -= 1\n",
    "        else\n",
    "            A[i,:].=0\n",
    "            A[i,i]=1\n",
    "        end\n",
    "    end\n",
    "    A\\b\n",
    "end\n",
    "\n",
    "c = committor(K,bnd)"
   ]
  },
  {
   "cell_type": "code",
   "execution_count": null,
   "metadata": {},
   "outputs": [],
   "source": [
    "sample(x) = rand(Categorical(K[x,:]))\n",
    "\n",
    "random_data(nx, ny) = let xs = [rand(1:N) for i in 1:nx]\n",
    "    [(x, [sample(x) for i in 1:ny]) for x in xs]\n",
    "end\n",
    "\n",
    "linear_data(ny) = [(x, [sample(x) for i in 1:ny]) for x in 1:N]\n",
    "\n",
    "data = linear_data(100)"
   ]
  },
  {
   "cell_type": "code",
   "execution_count": 9,
   "metadata": {},
   "outputs": [
    {
     "output_type": "execute_result",
     "data": {
      "text/plain": "loss_batch (generic function with 1 method)"
     },
     "metadata": {},
     "execution_count": 9
    }
   ],
   "source": [
    "loss(c, x, ys) = abs(mean(c(y) for y in ys) - c(x))\n",
    "\n",
    "loss_batch(c, batch) = mean(loss(c,d...) for d in batch)"
   ]
  },
  {
   "cell_type": "code",
   "execution_count": 10,
   "metadata": {},
   "outputs": [
    {
     "output_type": "error",
     "ename": "LoadError",
     "evalue": "\u001b[91mUndefVarError: bnd not defined\u001b[39m",
     "traceback": [
      "\u001b[91mUndefVarError: bnd not defined\u001b[39m",
      "",
      "Stacktrace:",
      " [1] top-level scope at In[10]:17",
      " [2] include_string(::Function, ::Module, ::String, ::String) at ./loading.jl:1091"
     ]
    }
   ],
   "source": [
    "struct VectorModel\n",
    "    c\n",
    "    bnd\n",
    "    bndinds\n",
    "end\n",
    "\n",
    "function (m::VectorModel)(x) \n",
    "    if x in m.bndinds\n",
    "        m.bnd[x]\n",
    "    else\n",
    "        m.c[x]\n",
    "    end\n",
    "end\n",
    "\n",
    "Flux.trainable(m::VectorModel) = (m.c,)\n",
    "\n",
    "model1 = VectorModel(rand(N), bnd, bndinds)\n",
    "model1(5)"
   ]
  },
  {
   "cell_type": "code",
   "execution_count": null,
   "metadata": {},
   "outputs": [],
   "source": [
    "struct NNModel\n",
    "    nn\n",
    "    bnd\n",
    "    bndinds\n",
    "end\n",
    "\n",
    "function (m::NNModel)(x) \n",
    "    if x in m.bndinds\n",
    "        m.bnd[Int(x)]\n",
    "    else\n",
    "        m.nn([x])[1] # we work with scalars, nn with arrays\n",
    "    end\n",
    "end\n",
    "\n",
    "Flux.trainable(m::NNModel) = (m.nn, )\n",
    "\n",
    "model2 = NNModel(Chain(Dense(1,10), Dense(10,1)), bnd, bndinds)\n",
    "model2(5)"
   ]
  },
  {
   "cell_type": "code",
   "execution_count": null,
   "metadata": {},
   "outputs": [],
   "source": [
    "error(x::Vector) = norm(x - c) / sqrt(length(x))\n",
    "error(f) = error([f(x) for x in 1:N])"
   ]
  },
  {
   "cell_type": "code",
   "execution_count": null,
   "metadata": {
    "tags": []
   },
   "outputs": [],
   "source": [
    "function learn(model, nx=100, ny=100)\n",
    "\n",
    "\n",
    "    errors = []\n",
    "    losses = []\n",
    "\n",
    "    opt = ADAM(0.1)\n",
    "\n",
    "    data_batch = [linear_data(ny) for i in 1:nx] # 1 x sample 100 y sampes\n",
    "\n",
    "    @time for d in data_batch\n",
    "        ps = Flux.params(model)\n",
    "        l, pb = Flux.pullback(ps) do\n",
    "            loss_batch(model, d)\n",
    "        end\n",
    "        grad = pb(1)\n",
    "        Flux.Optimise.update!(opt, ps, grad)\n",
    "        push!(errors, error(model))\n",
    "        push!(losses, l)\n",
    "    end\n",
    "    @show losses[end], errors[end]\n",
    "    model, losses, errors\n",
    "end\n",
    "\n",
    "model, losses, errors = learn(VectorModel(rand(N), bnd, bndinds))\n",
    "#model, losses, errors = learn(NNModel(Chain(Dense(1,10), Dense(10,10), Dense(10,1)), bnd, bndinds))\n",
    "\n"
   ]
  },
  {
   "cell_type": "code",
   "execution_count": null,
   "metadata": {},
   "outputs": [],
   "source": [
    "PyPlot.plot(errors)\n",
    "PyPlot.yscale(:log)\n",
    "figure()\n",
    "plot(losses)\n",
    "#yscale(:log)"
   ]
  },
  {
   "cell_type": "code",
   "execution_count": null,
   "metadata": {},
   "outputs": [],
   "source": [
    "chat = [model(x) for x in 1:N]\n",
    "\n",
    "hcat(chat, c)"
   ]
  },
  {
   "cell_type": "code",
   "execution_count": null,
   "metadata": {},
   "outputs": [],
   "source": [
    "loss_batch(model, linear_data(100000))"
   ]
  },
  {
   "cell_type": "code",
   "execution_count": null,
   "metadata": {},
   "outputs": [],
   "source": [
    "truth = VectorModel(c, bnd, bndinds)\n",
    "loss_batch(truth, linear_data(100000))"
   ]
  },
  {
   "cell_type": "code",
   "execution_count": null,
   "metadata": {},
   "outputs": [],
   "source": []
  }
 ],
 "metadata": {
  "@webio": {
   "lastCommId": null,
   "lastKernelId": null
  },
  "kernelspec": {
   "display_name": "Julia 1.5.3",
   "language": "julia",
   "name": "julia-1.5"
  },
  "language_info": {
   "file_extension": ".jl",
   "mimetype": "application/julia",
   "name": "julia",
   "version": "3.9.2-final"
  }
 },
 "nbformat": 4,
 "nbformat_minor": 4
}